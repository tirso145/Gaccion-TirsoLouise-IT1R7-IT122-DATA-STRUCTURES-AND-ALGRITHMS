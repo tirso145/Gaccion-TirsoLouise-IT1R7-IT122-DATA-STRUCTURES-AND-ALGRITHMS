{
 "cells": [
  {
   "cell_type": "code",
   "execution_count": 1,
   "id": "abandoned-session",
   "metadata": {
    "tags": []
   },
   "outputs": [
    {
     "name": "stdout",
     "output_type": "stream",
     "text": [
      "Discuss what you learned in Chapter 1:\n",
      "I learned that Algorithm is well defined computational procedure that takes some value or set of values.\n",
      "Algorithms is a sequence of computational steps that transform the input into output.\n",
      "Data Structures is a way to organize data in order to facilitate access and modifications.\n",
      "Data Strucures must be implemented correctly,run it in a quick time as possible and your storage capacity must be free enough for operation.\n",
      "The execution time cases can be defined by the execution of data structure in a relative manner.\n"
     ]
    }
   ],
   "source": [
    "print(\"Discuss what you learned in Chapter 1:\")\n",
    "\n",
    "print(\"I learned that Algorithm is well defined computational procedure that takes some value or set of values.\")\n",
    "print(\"Algorithms is a sequence of computational steps that transform the input into output.\")\n",
    "print(\"Data Structures is a way to organize data in order to facilitate access and modifications.\")                                  \n",
    "print(\"Data Strucures must be implemented correctly,run it in a quick time as possible and your storage capacity must be free enough for operation.\")\n",
    "print(\"The execution time cases can be defined by the execution of data structure in a relative manner.\")  \n"
   ]
  },
  {
   "cell_type": "code",
   "execution_count": 18,
   "id": "angry-respondent",
   "metadata": {},
   "outputs": [
    {
     "name": "stdout",
     "output_type": "stream",
     "text": [
      "Discuss what you learned in Chapter 2:\n",
      "Data type is a way to classify types of data to determine the values can be used with the corresponding type of data.\n",
      "There are two types of data,built in data type and derived data type.\n",
      "Built in Data Types like char,int,float and string and boolean has built in support.\n",
      "Derived Data Type like lists,array,stack and queue are normally built by the combination of primary/built in data types.\n",
      "Basic Operations are processed by certain operations that largely depends on the frequency of the operation that needs to be performed by the data structure.\n"
     ]
    }
   ],
   "source": [
    "print(\"Discuss what you learned in Chapter 2:\") \n",
    "print(\"Data type is a way to classify types of data to determine the values can be used with the corresponding type of data.\")\n",
    "print(\"There are two types of data,built in data type and derived data type.\")\n",
    "print(\"Built in Data Types like char,int,float and string and boolean has built in support.\")\n",
    "print(\"Derived Data Type like lists,array,stack and queue are normally built by the combination of primary/built in data types.\")\n",
    "print(\"Basic Operations are processed by certain operations that largely depends on the frequency of the operation that needs to be performed by the data structure.\")\n"
   ]
  },
  {
   "cell_type": "code",
   "execution_count": 21,
   "id": "detected-advance",
   "metadata": {},
   "outputs": [
    {
     "name": "stdout",
     "output_type": "stream",
     "text": [
      "Discuss what you learned in Chapter 3:\n",
      "Array is a container of fixed number of items and this should be in same type.\n",
      "Each item stored in an array is called an element.\n",
      "Index is an location of an element inside the array to a certain element.\n",
      "Array starts at 0.\n",
      "Elements can be stored no matter how many as much the user wants.\n"
     ]
    }
   ],
   "source": [
    "print(\"Discuss what you learned in Chapter 3:\")\n",
    "print(\"Array is a container of fixed number of items and this should be in same type.\")\n",
    "print(\"Each item stored in an array is called an element.\")\n",
    "print(\"Index is an location of an element inside the array to a certain element.\")\n",
    "print(\"Array starts at 0.\")\n",
    "print(\"Elements can be stored no matter how many as much the user wants.\")\n"
   ]
  },
  {
   "cell_type": "code",
   "execution_count": 14,
   "id": "prospective-penetration",
   "metadata": {},
   "outputs": [
    {
     "name": "stdout",
     "output_type": "stream",
     "text": [
      "1\n",
      "2\n",
      "3\n",
      "4\n",
      "5\n",
      "6\n"
     ]
    }
   ],
   "source": [
    "from array import *\n",
    "\n",
    "arrayName = array('i',[1,2,3,4,5])\n",
    "arrayName.insert(5,6)\n",
    "for x in arrayName:\n",
    "   print(x)"
   ]
  },
  {
   "cell_type": "code",
   "execution_count": null,
   "id": "human-renaissance",
   "metadata": {},
   "outputs": [],
   "source": []
  }
 ],
 "metadata": {
  "kernelspec": {
   "display_name": "Python 3",
   "language": "python",
   "name": "python3"
  },
  "language_info": {
   "codemirror_mode": {
    "name": "ipython",
    "version": 3
   },
   "file_extension": ".py",
   "mimetype": "text/x-python",
   "name": "python",
   "nbconvert_exporter": "python",
   "pygments_lexer": "ipython3",
   "version": "3.7.1"
  }
 },
 "nbformat": 4,
 "nbformat_minor": 5
}
